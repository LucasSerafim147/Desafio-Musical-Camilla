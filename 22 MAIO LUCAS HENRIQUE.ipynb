{
 "cells": [
  {
   "cell_type": "code",
   "execution_count": 12,
   "metadata": {},
   "outputs": [
    {
     "name": "stdout",
     "output_type": "stream",
     "text": [
      "5 patinhos foram passear além das montanhas para brincar. a mamãe gritou quack quack quack quack mas só 4 patinhos voltaram de lá\n",
      "4 patinhos foram passear além das montanhas para brincar. a mamãe gritou quack quack quack quack mas só 3 patinhos voltaram de lá\n",
      "3 patinhos foram passear além das montanhas para brincar. a mamãe gritou quack quack quack quack mas só 2 patinhos voltaram de lá\n",
      "2 patinhos foram passear além das montanhas para brincar. a mamãe gritou quack quack quack quack mas só 1 patinhos voltaram de lá\n",
      "1 patinhos foram passear além das montanhas para brincar. a mamãe gritou quack quack quack quack mas só 0 patinhos voltaram de lá\n",
      "1 patinho foi passear ,além das montanhas para brincar. a mamãe gritou quack quack quack quack mas só 0 patinho voltaram de lá\n"
     ]
    }
   ],
   "source": [
    "for patinhos in [5,4,3,2,1]:\n",
    "    print(f\"{patinhos} patinhos foram passear além das montanhas para brincar. a mamãe gritou quack quack quack quack mas só {patinhos -1} patinhos voltaram de lá\")\n",
    "    if patinhos == 1:\n",
    "        print (f\"{patinhos} patinho foi passear ,além das montanhas para brincar. a mamãe gritou quack quack quack quack mas só {patinhos -1} patinho voltaram de lá\")\n",
    "    else:()"
   ]
  },
  {
   "cell_type": "code",
   "execution_count": 48,
   "metadata": {},
   "outputs": [
    {
     "name": "stdout",
     "output_type": "stream",
     "text": [
      "1 Elefante incomoda muita gente\n",
      "2 elefantes incomodam,incomodam, Muito mais\n",
      "3 Elefantes incomodam muita gente\n",
      "4 elefantes incomodam,incomodam,incomodam,incomodam, Muito mais\n",
      "5 Elefantes incomodam muita gente\n",
      "6 elefantes incomodam,incomodam,incomodam,incomodam,incomodam,incomodam, Muito mais\n",
      "7 Elefantes incomodam muita gente\n",
      "8 elefantes incomodam,incomodam,incomodam,incomodam,incomodam,incomodam,incomodam,incomodam, Muito mais\n",
      "9 Elefantes incomodam muita gente\n",
      "10 elefantes incomodam,incomodam,incomodam,incomodam,incomodam,incomodam,incomodam,incomodam,incomodam,incomodam, Muito mais\n"
     ]
    }
   ],
   "source": [
    "inco = \"incomodam,\"\n",
    "for elefantes in [1,2,3,4,5,6,7,8,9,10]:\n",
    "    if elefantes == 1: print(elefantes, \"Elefante incomoda muita gente\")\n",
    "    elif elefantes % 2 == 0: print(elefantes,\"elefantes\", inco * elefantes , \"Muito mais\")\n",
    "    else: print(elefantes, \"Elefantes incomodam muita gente\")"
   ]
  },
  {
   "cell_type": "code",
   "execution_count": 50,
   "metadata": {},
   "outputs": [
    {
     "name": "stdout",
     "output_type": "stream",
     "text": [
      "10 Elefante incomoda muita gente\n",
      "9 elefantes incomodam,incomodam,incomodam,incomodam,incomodam,incomodam,incomodam,incomodam,incomodam, Muito mais\n",
      "8 Elefantes incomodam muita gente\n",
      "7 elefantes incomodam,incomodam,incomodam,incomodam,incomodam,incomodam,incomodam, Muito mais\n",
      "6 Elefantes incomodam muita gente\n",
      "5 elefantes incomodam,incomodam,incomodam,incomodam,incomodam, Muito mais\n",
      "4 Elefantes incomodam muita gente\n",
      "3 elefantes incomodam,incomodam,incomodam, Muito mais\n",
      "2 Elefantes incomodam muita gente\n",
      "1 elefantes incomodam, Muito mais\n"
     ]
    }
   ],
   "source": [
    "inco = \"incomodam,\"\n",
    "for elefantes in [10,9,8,7,6,5,4,3,2,1]:\n",
    "    if elefantes == 10: print(elefantes, \"Elefante incomoda muita gente\")\n",
    "    elif elefantes % 2 : print(elefantes,\"elefantes\", inco * elefantes , \"Muito mais\")\n",
    "    else: print(elefantes, \"Elefantes incomodam muita gente\")"
   ]
  },
  {
   "cell_type": "code",
   "execution_count": null,
   "metadata": {},
   "outputs": [
    {
     "ename": "",
     "evalue": "",
     "output_type": "error",
     "traceback": [
      "\u001b[1;31mRunning cells with 'c:\\Program Files\\Python312\\python.exe' requires the ipykernel package.\n",
      "\u001b[1;31mRun the following command to install 'ipykernel' into the Python environment. \n",
      "\u001b[1;31mCommand: '\"c:/Program Files/Python312/python.exe\" -m pip install ipykernel -U --user --force-reinstall'"
     ]
    }
   ],
   "source": [
    "marianaConta = [1,2,3,4,5,6,7,8,9,10]\n",
    "n= 1\n",
    "for n in marianaConta:\n",
    "    if n ==1:\n",
    "        print(\"Mariana conta\", (n), \"Mariana conta\", (n), \"ana, viva a mariana\")\n",
    "    else:\n",
    "        print(f\"Mariana conta\", (n), \"Mariana conta\", marianaConta[0:n], \" ana, viva a mariana\")\n",
    "        \n",
    "\n"
   ]
  }
 ],
 "metadata": {
  "kernelspec": {
   "display_name": "Python 3",
   "language": "python",
   "name": "python3"
  },
  "language_info": {
   "codemirror_mode": {
    "name": "ipython",
    "version": 3
   },
   "file_extension": ".py",
   "mimetype": "text/x-python",
   "name": "python",
   "nbconvert_exporter": "python",
   "pygments_lexer": "ipython3",
   "version": "3.12.1"
  }
 },
 "nbformat": 4,
 "nbformat_minor": 2
}
